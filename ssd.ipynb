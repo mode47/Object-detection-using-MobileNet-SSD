{
 "cells": [
  {
   "cell_type": "code",
   "execution_count": null,
   "id": "0ed43352",
   "metadata": {},
   "outputs": [
    {
     "name": "stdout",
     "output_type": "stream",
     "text": [
      "['person', 'bicycle', 'car', 'motorcycle', 'airplane', 'bus', 'train', 'truck', 'boat', 'traffic light', 'fire hydrant', 'street sign', 'stop sign', 'parking meter', 'bench', 'bird', 'cat', 'dog', 'horse', 'sheep', 'cow', 'elephant', 'bear', 'zebra', 'giraffe', 'hat', 'backpack', 'umbrella', 'shoe', 'eye glasses', 'handbag', 'tie', 'suitcase', 'frisbee', 'skis', 'snowboard', 'sports ball', 'kite', 'baseball bat', 'baseball glove', 'skateboard', 'surfboard', 'tennis racket', 'bottle', 'plate', 'wine glass', 'cup', 'fork', 'knife', 'spoon', 'bowl', 'banana', 'apple', 'sandwich', 'orange', 'broccoli', 'carrot', 'hot dog', 'pizza', 'donut', 'cake', 'chair', 'couch', 'potted plant', 'bed', 'mirror', 'dining table', 'window', 'desk', 'toilet', 'door', 'tv', 'laptop', 'mouse', 'remote', 'keyboard', 'cell phone', 'microwave', 'oven', 'toaster', 'sink', 'refrigerator', 'blender', 'book', 'clock', 'vase', 'scissors', 'teddy bear', 'hair drier', 'toothbrush', 'hair brush']\n"
     ]
    }
   ],
   "source": [
    "#import pyttsx3\n",
    "class object_detection:\n",
    "    def detection(self):\n",
    "        import cv2\n",
    "        classname = []\n",
    "        names = 'coco.names'\n",
    "        with open(names, 'rt') as f:\n",
    "            classname = f.read().rstrip('\\n').split('\\n')\n",
    "        print(classname)\n",
    "        conf = 'ssd_mobilenet_v3_large_coco_2020_01_14.pbtxt'\n",
    "        weigth = 'frozen_inference_graph.pb'\n",
    "        net = cv2.dnn_DetectionModel(weigth, conf)\n",
    "        net.setInputSize(320, 320)\n",
    "\n",
    "        net.setInputScale(1.0 / 127.5)\n",
    "        net.setInputMean((127.5, 127.5, 127.5))\n",
    "        net.setInputSwapRB(True)\n",
    "        # img =cv2.imread('D:\\cv_projects\\cats.jpg')\n",
    "        cap = cv2.VideoCapture('yt1s.com - SPIN Reusable Face Mask Commercial Ads_1080p.mp4')\n",
    "        import time\n",
    "    #    engine=pyttsx3.init()\n",
    "        while True:\n",
    "            succ, img = cap.read()\n",
    "            classid, conf, box = net.detect(img, confThreshold=0.6)\n",
    "            if len(classid) != 0:\n",
    "                for classids, confs, boxx in zip(classid.flatten(), conf.flatten(), box):\n",
    "                    str1 = str(classname[classids - 1].upper())\n",
    "      #              engine.say(str1 + \"detect\")\n",
    "     #               engine.runAndWait()\n",
    "                    cv2.rectangle(img, boxx, color=(0, 255, 0), thickness=2)\n",
    "                    cv2.putText(img, classname[classids - 1].upper(), (boxx[0] + 10, boxx[1] + 30),\n",
    "                                cv2.FONT_HERSHEY_COMPLEX, 1, (0, 255, 0), 2)\n",
    "                    cv2.putText(img, str(round(confs * 100, 2)), (boxx[0] + 200, boxx[1] + 30),\n",
    "                                cv2.FONT_HERSHEY_COMPLEX, 1, (0, 255, 0), 2)\n",
    "            cv2.imshow('farme', img)\n",
    "            cv2.waitKey(1)\n",
    "\n",
    "            time.sleep(0.3)\n",
    "obj=object_detection()\n",
    "obj.detection()\n"
   ]
  },
  {
   "cell_type": "code",
   "execution_count": null,
   "id": "a91e498a",
   "metadata": {},
   "outputs": [],
   "source": []
  }
 ],
 "metadata": {
  "kernelspec": {
   "display_name": "Python 3 (ipykernel)",
   "language": "python",
   "name": "python3"
  },
  "language_info": {
   "codemirror_mode": {
    "name": "ipython",
    "version": 3
   },
   "file_extension": ".py",
   "mimetype": "text/x-python",
   "name": "python",
   "nbconvert_exporter": "python",
   "pygments_lexer": "ipython3",
   "version": "3.9.7"
  }
 },
 "nbformat": 4,
 "nbformat_minor": 5
}
